{
 "cells": [
  {
   "cell_type": "markdown",
   "metadata": {},
   "source": [
    "# **Table of Contents**\n",
    "\n",
    "1. [Introduction](#Section1)<br>\n",
    "2. [Problem Statement](#Section2)<br>\n",
    "3. [Installing and Importing Libraries](#Section3)<br>\n",
    "4. [Data Loading and Dataset Description](#Section4)<br>\n",
    "  - 4.1 [Data Loading](#Section401)<br>\n",
    "  - 4.2 [Dataset Information](#Section402)<br>\n",
    "5. [Data Pre-Processing](#Section5)<br>\n",
    "  - 5.1 [Renaming Columns](#Section501)<br>\n",
    "  - 5.2 [Assign String DataType to Message Column](#Section502)<br>\n",
    "  - 5.3 [Cleaning the Reviews](#Section503)<br>\n",
    "6. [Exploratory Data Analysis](#Section6)<br>\n",
    "7. [Preparing Data for Analysis](#Section7)<br>\n",
    "  - 7.1 [Brief about stopwords, stemming, lemmatization and tokenization](#Section701)<br>\n",
    "  - 7.2 [Brief about BoW and TF-IDF](#Section702)<br>\n",
    "  - 7.3 [Remove Stopwords and use Stemming](#Section703)<br>\n",
    "  - 7.4 [Splitting Data into Train and Test for Further Model Development](#Section704)<br>\n",
    "8. [Model Development and Evaluation](#Section8)<br>\n",
    "    - 8.1 [Naive Bayes Classifier](#Section801)<br>\n",
    "    - 8.2 [Support Vector Classifier](#Section802)<br>\n",
    "9. [Conclusion](#Section9)<br>"
   ]
  },
  {
   "cell_type": "markdown",
   "metadata": {},
   "source": [
    "<a id = Section1></a>\n",
    "## **1. Introduction**"
   ]
  },
  {
   "cell_type": "markdown",
   "metadata": {},
   "source": [
    "- **Spam/Ham** detection is one of the **classic cases** where **classification algorithms** have been used since ages.\n",
    "- Spam messages or junk mesaages do not contain any valuable information. They come in bulk everyday and if not detected properly and stopped from entering the inbox will be a source of great distraction for people.\n",
    "- Overtime Google has done this extremely well and we are seldom bothered by spam emails.\n",
    "- Google however uses AI to make this happen but here we will see how we can accurately predict spam and ham messages.\n",
    "- We won't go into the AI part and automate the stuff but rather look into the steps leading to automation"
   ]
  },
  {
   "cell_type": "markdown",
   "metadata": {},
   "source": [
    "<a id = Section2></a>\n",
    "## **2. Problem Statement**"
   ]
  },
  {
   "cell_type": "markdown",
   "metadata": {},
   "source": [
    "**Classify Spam and Ham messages based on the text in the message using Supervised Machine Learning Techniques**\n",
    "\n",
    "- We will use **classification techniques** to carry out the analysis\n",
    "- Here I will use **Naive Bayes** and **Support Vector Classifier** to predict spam and ham messages since these 2 algorithms have been seen to work very well with text data (which gives rise to a large number of dimensions after processing)\n"
   ]
  },
  {
   "cell_type": "markdown",
   "metadata": {},
   "source": [
    "` We will not be using KNN and Logistic Regression for the above classification as they don't work well with large number of dimensions (features)`"
   ]
  },
  {
   "cell_type": "markdown",
   "metadata": {},
   "source": [
    "<a id = Section3></a>\n",
    "## **3. Installing and Importing Libraries**"
   ]
  },
  {
   "cell_type": "code",
   "execution_count": 5,
   "metadata": {},
   "outputs": [],
   "source": [
    "# For Numerical Python\n",
    "import numpy as np\n",
    "\n",
    "# For Panel Data Analysis\n",
    "import pandas as pd\n",
    "\n",
    "# For Data Visualization\n",
    "import matplotlib.pyplot as plt\n",
    "%matplotlib inline\n",
    "\n",
    "import seaborn as sns\n",
    "\n",
    "# To Disable Warnings\n",
    "import warnings\n",
    "warnings.filterwarnings(\"ignore\")"
   ]
  },
  {
   "cell_type": "code",
   "execution_count": 107,
   "metadata": {},
   "outputs": [],
   "source": [
    "# library for regular expressions\n",
    "import re\n",
    "\n",
    "# Natural language toolkit is the most important library to carry out various NLP tasks\n",
    "import nltk"
   ]
  },
  {
   "cell_type": "code",
   "execution_count": null,
   "metadata": {},
   "outputs": [],
   "source": [
    "#nltk.download('all')  #if using for the first time make sure to run this command\n",
    "#!pip install wordcloud  # to visualise the most frequently occurring words"
   ]
  },
  {
   "cell_type": "code",
   "execution_count": 124,
   "metadata": {},
   "outputs": [],
   "source": [
    "from nltk.corpus import stopwords  #to remove stopwords\n",
    "from nltk.stem.porter import PorterStemmer  #used for Stemming"
   ]
  },
  {
   "cell_type": "code",
   "execution_count": 108,
   "metadata": {},
   "outputs": [],
   "source": [
    "from wordcloud import WordCloud   #use this after installing wordcloud"
   ]
  },
  {
   "cell_type": "markdown",
   "metadata": {},
   "source": [
    "### Machine Learning Libraries"
   ]
  },
  {
   "cell_type": "code",
   "execution_count": 300,
   "metadata": {},
   "outputs": [],
   "source": [
    "from sklearn.model_selection import train_test_split\n",
    "from sklearn.feature_extraction.text import CountVectorizer #for BoW\n",
    "from sklearn.feature_extraction.text import TfidfVectorizer   #run this line if using TFIDF model\n",
    "from sklearn.pipeline import Pipeline  #creates a machine learning pipeline\n",
    "from sklearn.naive_bayes import MultinomialNB  #to apply Naive Bayes Classifier\n",
    "from sklearn.svm import SVC #to apply Support Vector Classifier\n",
    "from sklearn.metrics import accuracy_score, confusion_matrix, classification_report  #accuracy metrics"
   ]
  },
  {
   "cell_type": "markdown",
   "metadata": {},
   "source": [
    "<a id = Section4></a>\n",
    "## **4. Data Loading and Dataset Description**"
   ]
  },
  {
   "cell_type": "markdown",
   "metadata": {},
   "source": [
    "- We have a dataset containing about 6K records of spam and ham messages\n",
    "- There are just 2 columns, one containing the label (whether spam or ham) and the other containing the message itself\n",
    "- The message is written in English language"
   ]
  },
  {
   "cell_type": "markdown",
   "metadata": {},
   "source": [
    "<br> \n",
    "\n",
    "| Records | Features | Dataset Size |\n",
    "| :--: | :--: | :--: |\n",
    "| 5,572 | 2 | 492 KB| \n",
    "\n",
    "<br> "
   ]
  },
  {
   "cell_type": "markdown",
   "metadata": {},
   "source": [
    "<a id = Section401></a>\n",
    "### **4.1 Data Loading**"
   ]
  },
  {
   "cell_type": "code",
   "execution_count": 158,
   "metadata": {},
   "outputs": [],
   "source": [
    "data = pd.read_csv(\"https://raw.githubusercontent.com/insaid2018/Term-3/master/Data/Assignment/spam.csv\", engine = 'python')"
   ]
  },
  {
   "cell_type": "code",
   "execution_count": 64,
   "metadata": {
    "scrolled": true
   },
   "outputs": [
    {
     "data": {
      "text/html": [
       "<div>\n",
       "<style scoped>\n",
       "    .dataframe tbody tr th:only-of-type {\n",
       "        vertical-align: middle;\n",
       "    }\n",
       "\n",
       "    .dataframe tbody tr th {\n",
       "        vertical-align: top;\n",
       "    }\n",
       "\n",
       "    .dataframe thead th {\n",
       "        text-align: right;\n",
       "    }\n",
       "</style>\n",
       "<table border=\"1\" class=\"dataframe\">\n",
       "  <thead>\n",
       "    <tr style=\"text-align: right;\">\n",
       "      <th></th>\n",
       "      <th>v1</th>\n",
       "      <th>v2</th>\n",
       "      <th>Unnamed: 2</th>\n",
       "      <th>Unnamed: 3</th>\n",
       "      <th>Unnamed: 4</th>\n",
       "    </tr>\n",
       "  </thead>\n",
       "  <tbody>\n",
       "    <tr>\n",
       "      <th>0</th>\n",
       "      <td>ham</td>\n",
       "      <td>Go until jurong point, crazy.. Available only ...</td>\n",
       "      <td>NaN</td>\n",
       "      <td>NaN</td>\n",
       "      <td>NaN</td>\n",
       "    </tr>\n",
       "    <tr>\n",
       "      <th>1</th>\n",
       "      <td>ham</td>\n",
       "      <td>Ok lar... Joking wif u oni...</td>\n",
       "      <td>NaN</td>\n",
       "      <td>NaN</td>\n",
       "      <td>NaN</td>\n",
       "    </tr>\n",
       "    <tr>\n",
       "      <th>2</th>\n",
       "      <td>spam</td>\n",
       "      <td>Free entry in 2 a wkly comp to win FA Cup fina...</td>\n",
       "      <td>NaN</td>\n",
       "      <td>NaN</td>\n",
       "      <td>NaN</td>\n",
       "    </tr>\n",
       "    <tr>\n",
       "      <th>3</th>\n",
       "      <td>ham</td>\n",
       "      <td>U dun say so early hor... U c already then say...</td>\n",
       "      <td>NaN</td>\n",
       "      <td>NaN</td>\n",
       "      <td>NaN</td>\n",
       "    </tr>\n",
       "    <tr>\n",
       "      <th>4</th>\n",
       "      <td>ham</td>\n",
       "      <td>Nah I don't think he goes to usf, he lives aro...</td>\n",
       "      <td>NaN</td>\n",
       "      <td>NaN</td>\n",
       "      <td>NaN</td>\n",
       "    </tr>\n",
       "  </tbody>\n",
       "</table>\n",
       "</div>"
      ],
      "text/plain": [
       "     v1                                                 v2 Unnamed: 2  \\\n",
       "0   ham  Go until jurong point, crazy.. Available only ...        NaN   \n",
       "1   ham                      Ok lar... Joking wif u oni...        NaN   \n",
       "2  spam  Free entry in 2 a wkly comp to win FA Cup fina...        NaN   \n",
       "3   ham  U dun say so early hor... U c already then say...        NaN   \n",
       "4   ham  Nah I don't think he goes to usf, he lives aro...        NaN   \n",
       "\n",
       "  Unnamed: 3 Unnamed: 4  \n",
       "0        NaN        NaN  \n",
       "1        NaN        NaN  \n",
       "2        NaN        NaN  \n",
       "3        NaN        NaN  \n",
       "4        NaN        NaN  "
      ]
     },
     "execution_count": 64,
     "metadata": {},
     "output_type": "execute_result"
    }
   ],
   "source": [
    "data.head()  #this gives 3 additional columns which are unnecessary so we can just drop them"
   ]
  },
  {
   "cell_type": "code",
   "execution_count": 159,
   "metadata": {},
   "outputs": [
    {
     "data": {
      "text/html": [
       "<div>\n",
       "<style scoped>\n",
       "    .dataframe tbody tr th:only-of-type {\n",
       "        vertical-align: middle;\n",
       "    }\n",
       "\n",
       "    .dataframe tbody tr th {\n",
       "        vertical-align: top;\n",
       "    }\n",
       "\n",
       "    .dataframe thead th {\n",
       "        text-align: right;\n",
       "    }\n",
       "</style>\n",
       "<table border=\"1\" class=\"dataframe\">\n",
       "  <thead>\n",
       "    <tr style=\"text-align: right;\">\n",
       "      <th></th>\n",
       "      <th>v1</th>\n",
       "      <th>v2</th>\n",
       "    </tr>\n",
       "  </thead>\n",
       "  <tbody>\n",
       "    <tr>\n",
       "      <th>0</th>\n",
       "      <td>ham</td>\n",
       "      <td>Go until jurong point, crazy.. Available only ...</td>\n",
       "    </tr>\n",
       "    <tr>\n",
       "      <th>1</th>\n",
       "      <td>ham</td>\n",
       "      <td>Ok lar... Joking wif u oni...</td>\n",
       "    </tr>\n",
       "    <tr>\n",
       "      <th>2</th>\n",
       "      <td>spam</td>\n",
       "      <td>Free entry in 2 a wkly comp to win FA Cup fina...</td>\n",
       "    </tr>\n",
       "    <tr>\n",
       "      <th>3</th>\n",
       "      <td>ham</td>\n",
       "      <td>U dun say so early hor... U c already then say...</td>\n",
       "    </tr>\n",
       "    <tr>\n",
       "      <th>4</th>\n",
       "      <td>ham</td>\n",
       "      <td>Nah I don't think he goes to usf, he lives aro...</td>\n",
       "    </tr>\n",
       "  </tbody>\n",
       "</table>\n",
       "</div>"
      ],
      "text/plain": [
       "     v1                                                 v2\n",
       "0   ham  Go until jurong point, crazy.. Available only ...\n",
       "1   ham                      Ok lar... Joking wif u oni...\n",
       "2  spam  Free entry in 2 a wkly comp to win FA Cup fina...\n",
       "3   ham  U dun say so early hor... U c already then say...\n",
       "4   ham  Nah I don't think he goes to usf, he lives aro..."
      ]
     },
     "execution_count": 159,
     "metadata": {},
     "output_type": "execute_result"
    }
   ],
   "source": [
    "data = data.iloc[:,0:2]  #selecting only the first 2 columns\n",
    "data.head()"
   ]
  },
  {
   "cell_type": "markdown",
   "metadata": {},
   "source": [
    "This is our data"
   ]
  },
  {
   "cell_type": "markdown",
   "metadata": {},
   "source": [
    "<a id = Section402></a>\n",
    "### **4.2 Dataset Information**"
   ]
  },
  {
   "cell_type": "code",
   "execution_count": 45,
   "metadata": {
    "scrolled": true
   },
   "outputs": [
    {
     "data": {
      "text/plain": [
       "(5572, 2)"
      ]
     },
     "execution_count": 45,
     "metadata": {},
     "output_type": "execute_result"
    }
   ],
   "source": [
    "#Checking the shape of the data\n",
    "data.shape     "
   ]
  },
  {
   "cell_type": "markdown",
   "metadata": {},
   "source": [
    "**5572 rows and 2 columns**"
   ]
  },
  {
   "cell_type": "code",
   "execution_count": 46,
   "metadata": {
    "scrolled": true
   },
   "outputs": [
    {
     "name": "stdout",
     "output_type": "stream",
     "text": [
      "<class 'pandas.core.frame.DataFrame'>\n",
      "RangeIndex: 5572 entries, 0 to 5571\n",
      "Data columns (total 2 columns):\n",
      " #   Column  Non-Null Count  Dtype \n",
      "---  ------  --------------  ----- \n",
      " 0   v1      5572 non-null   object\n",
      " 1   v2      5572 non-null   object\n",
      "dtypes: object(2)\n",
      "memory usage: 87.2+ KB\n"
     ]
    }
   ],
   "source": [
    "data.info()"
   ]
  },
  {
   "cell_type": "markdown",
   "metadata": {},
   "source": [
    "**Observations**\n",
    "- Both are categorical columns\n",
    "- There seems to be no empty cells in the data\n",
    "- v1 is our target variable\n",
    "- v2 is the explanatory feature which requires further processing "
   ]
  },
  {
   "cell_type": "markdown",
   "metadata": {},
   "source": [
    "<a id = Section5></a>\n",
    "## **5. Data Pre-Processing**"
   ]
  },
  {
   "cell_type": "markdown",
   "metadata": {},
   "source": [
    "<a id = Section501></a>\n",
    "### **5.1 Renaming Columns**"
   ]
  },
  {
   "cell_type": "code",
   "execution_count": 160,
   "metadata": {},
   "outputs": [
    {
     "data": {
      "text/plain": [
       "Index(['Label', 'Message'], dtype='object')"
      ]
     },
     "execution_count": 160,
     "metadata": {},
     "output_type": "execute_result"
    }
   ],
   "source": [
    "data.rename(columns={'v1': 'Label','v2': 'Message'}, inplace= True)\n",
    "data.columns #column names have been changed"
   ]
  },
  {
   "cell_type": "markdown",
   "metadata": {},
   "source": [
    "<a id = Section501></a>\n",
    "### **5.2 Assign String DataType to the Message Column**"
   ]
  },
  {
   "cell_type": "markdown",
   "metadata": {},
   "source": [
    "- The **Message** column doesn't have a uniform datatype for all the observations in the data.\n",
    "\n",
    "- As a result, it will give **errors** when subjected to string operations.\n",
    "\n",
    "- So we will assign a **string** datatype to the entire column to prevent such errors."
   ]
  },
  {
   "cell_type": "code",
   "execution_count": 161,
   "metadata": {},
   "outputs": [],
   "source": [
    "data.Message = data.Message.astype(str)"
   ]
  },
  {
   "cell_type": "markdown",
   "metadata": {},
   "source": [
    "<a id = Section502></a>\n",
    "### **5.3 Cleaning the Reviews**"
   ]
  },
  {
   "cell_type": "markdown",
   "metadata": {},
   "source": [
    "- Machines do not understand text data. Hence, we need to feed numbers to the computer to get desireable results\n",
    "- In order to convert text data into numerical form we have quite a few techniques but before that we need to clean the data first\n",
    "- Data cleaning refers to remove unnecessary punctuations, numbers, maintaing either lower or upper case format, getting rid of irrelevant white spaces, etc.."
   ]
  },
  {
   "cell_type": "markdown",
   "metadata": {},
   "source": [
    "- Here, we will **clean** the Message column by:\n",
    "\n",
    "  - **Changing** the **case** of each word to **lowercase**.\n",
    "\n",
    "  - **Removing** all the **punctuation marks** from each message.\n",
    "\n",
    "  - **Removing** any additional white space from each review.\n",
    "\n",
    "- Then, we will **create** a new column in the dataset `Clean_Message`, that will contain all the cleaned messages."
   ]
  },
  {
   "cell_type": "markdown",
   "metadata": {},
   "source": [
    "`Creating a custom function to perform data cleaning`"
   ]
  },
  {
   "cell_type": "code",
   "execution_count": 162,
   "metadata": {},
   "outputs": [],
   "source": [
    "def clean_data(text):          #using the re library\n",
    "\n",
    "    text = text.lower().strip()\n",
    "    text = re.sub(r\"<br>\", \" \", text)\n",
    "    text = re.sub(r\"([-?.!,/\\\"])\", r\" \\1 \", text)\n",
    "    text = re.sub(r\"[-()\\\"#/@;:<>{}`+=~|.!?,']\", \"\", text)\n",
    "    text = re.sub(r\"[ ]+\", \" \", text)\n",
    "    text = text.rstrip().strip()\n",
    "\n",
    "    return text\n",
    "    "
   ]
  },
  {
   "cell_type": "code",
   "execution_count": 163,
   "metadata": {},
   "outputs": [
    {
     "data": {
      "text/html": [
       "<div>\n",
       "<style scoped>\n",
       "    .dataframe tbody tr th:only-of-type {\n",
       "        vertical-align: middle;\n",
       "    }\n",
       "\n",
       "    .dataframe tbody tr th {\n",
       "        vertical-align: top;\n",
       "    }\n",
       "\n",
       "    .dataframe thead th {\n",
       "        text-align: right;\n",
       "    }\n",
       "</style>\n",
       "<table border=\"1\" class=\"dataframe\">\n",
       "  <thead>\n",
       "    <tr style=\"text-align: right;\">\n",
       "      <th></th>\n",
       "      <th>Label</th>\n",
       "      <th>Message</th>\n",
       "      <th>Clean_Message</th>\n",
       "    </tr>\n",
       "  </thead>\n",
       "  <tbody>\n",
       "    <tr>\n",
       "      <th>0</th>\n",
       "      <td>ham</td>\n",
       "      <td>Go until jurong point, crazy.. Available only ...</td>\n",
       "      <td>go until jurong point crazy available only in ...</td>\n",
       "    </tr>\n",
       "    <tr>\n",
       "      <th>1</th>\n",
       "      <td>ham</td>\n",
       "      <td>Ok lar... Joking wif u oni...</td>\n",
       "      <td>ok lar joking wif u oni</td>\n",
       "    </tr>\n",
       "    <tr>\n",
       "      <th>2</th>\n",
       "      <td>spam</td>\n",
       "      <td>Free entry in 2 a wkly comp to win FA Cup fina...</td>\n",
       "      <td>free entry in 2 a wkly comp to win fa cup fina...</td>\n",
       "    </tr>\n",
       "    <tr>\n",
       "      <th>3</th>\n",
       "      <td>ham</td>\n",
       "      <td>U dun say so early hor... U c already then say...</td>\n",
       "      <td>u dun say so early hor u c already then say</td>\n",
       "    </tr>\n",
       "    <tr>\n",
       "      <th>4</th>\n",
       "      <td>ham</td>\n",
       "      <td>Nah I don't think he goes to usf, he lives aro...</td>\n",
       "      <td>nah i dont think he goes to usf he lives aroun...</td>\n",
       "    </tr>\n",
       "  </tbody>\n",
       "</table>\n",
       "</div>"
      ],
      "text/plain": [
       "  Label                                            Message  \\\n",
       "0   ham  Go until jurong point, crazy.. Available only ...   \n",
       "1   ham                      Ok lar... Joking wif u oni...   \n",
       "2  spam  Free entry in 2 a wkly comp to win FA Cup fina...   \n",
       "3   ham  U dun say so early hor... U c already then say...   \n",
       "4   ham  Nah I don't think he goes to usf, he lives aro...   \n",
       "\n",
       "                                       Clean_Message  \n",
       "0  go until jurong point crazy available only in ...  \n",
       "1                            ok lar joking wif u oni  \n",
       "2  free entry in 2 a wkly comp to win fa cup fina...  \n",
       "3        u dun say so early hor u c already then say  \n",
       "4  nah i dont think he goes to usf he lives aroun...  "
      ]
     },
     "execution_count": 163,
     "metadata": {},
     "output_type": "execute_result"
    }
   ],
   "source": [
    "#Applying the above function to the Message column\n",
    "data['Clean_Message'] = data.Message.apply(clean_data)\n",
    "data.head()  #we can compare both the columns to understand the difference"
   ]
  },
  {
   "cell_type": "markdown",
   "metadata": {},
   "source": [
    "#### Removing the Message column as it is not required anymore. We will be working on the Clean_Message column from now"
   ]
  },
  {
   "cell_type": "code",
   "execution_count": 164,
   "metadata": {},
   "outputs": [],
   "source": [
    "data.drop('Message', inplace = True, axis = 1)"
   ]
  },
  {
   "cell_type": "code",
   "execution_count": 71,
   "metadata": {},
   "outputs": [
    {
     "data": {
      "text/html": [
       "<div>\n",
       "<style scoped>\n",
       "    .dataframe tbody tr th:only-of-type {\n",
       "        vertical-align: middle;\n",
       "    }\n",
       "\n",
       "    .dataframe tbody tr th {\n",
       "        vertical-align: top;\n",
       "    }\n",
       "\n",
       "    .dataframe thead th {\n",
       "        text-align: right;\n",
       "    }\n",
       "</style>\n",
       "<table border=\"1\" class=\"dataframe\">\n",
       "  <thead>\n",
       "    <tr style=\"text-align: right;\">\n",
       "      <th></th>\n",
       "      <th>Label</th>\n",
       "      <th>Clean_Message</th>\n",
       "    </tr>\n",
       "  </thead>\n",
       "  <tbody>\n",
       "    <tr>\n",
       "      <th>0</th>\n",
       "      <td>ham</td>\n",
       "      <td>go until jurong point crazy available only in ...</td>\n",
       "    </tr>\n",
       "    <tr>\n",
       "      <th>1</th>\n",
       "      <td>ham</td>\n",
       "      <td>ok lar joking wif u oni</td>\n",
       "    </tr>\n",
       "    <tr>\n",
       "      <th>2</th>\n",
       "      <td>spam</td>\n",
       "      <td>free entry in 2 a wkly comp to win fa cup fina...</td>\n",
       "    </tr>\n",
       "    <tr>\n",
       "      <th>3</th>\n",
       "      <td>ham</td>\n",
       "      <td>u dun say so early hor u c already then say</td>\n",
       "    </tr>\n",
       "    <tr>\n",
       "      <th>4</th>\n",
       "      <td>ham</td>\n",
       "      <td>nah i dont think he goes to usf he lives aroun...</td>\n",
       "    </tr>\n",
       "  </tbody>\n",
       "</table>\n",
       "</div>"
      ],
      "text/plain": [
       "  Label                                      Clean_Message\n",
       "0   ham  go until jurong point crazy available only in ...\n",
       "1   ham                            ok lar joking wif u oni\n",
       "2  spam  free entry in 2 a wkly comp to win fa cup fina...\n",
       "3   ham        u dun say so early hor u c already then say\n",
       "4   ham  nah i dont think he goes to usf he lives aroun..."
      ]
     },
     "execution_count": 71,
     "metadata": {},
     "output_type": "execute_result"
    }
   ],
   "source": [
    "data.head()"
   ]
  },
  {
   "cell_type": "markdown",
   "metadata": {},
   "source": [
    "<a id = Section6></a>\n",
    "## **6. Exploratory Data Analysis**"
   ]
  },
  {
   "cell_type": "markdown",
   "metadata": {},
   "source": [
    "Here we can explore the data a bit to understand the patterns and relationships. Since we just have one explanatory feature yet data exploration is always good"
   ]
  },
  {
   "cell_type": "markdown",
   "metadata": {},
   "source": [
    "### **Question 1: What is the proportion of Spam and Ham messages in the data?** "
   ]
  },
  {
   "cell_type": "code",
   "execution_count": 73,
   "metadata": {},
   "outputs": [
    {
     "data": {
      "text/plain": [
       "ham     4825\n",
       "spam     747\n",
       "Name: Label, dtype: int64"
      ]
     },
     "execution_count": 73,
     "metadata": {},
     "output_type": "execute_result"
    }
   ],
   "source": [
    "data.Label.value_counts()"
   ]
  },
  {
   "cell_type": "code",
   "execution_count": 301,
   "metadata": {},
   "outputs": [
    {
     "data": {
      "text/plain": [
       "<matplotlib.legend.Legend at 0x208375e6f60>"
      ]
     },
     "execution_count": 301,
     "metadata": {},
     "output_type": "execute_result"
    },
    {
     "data": {
      "image/png": "[encoded data removed]",
      "text/plain": [
       "<Figure size 1224x504 with 2 Axes>"
      ]
     },
     "metadata": {
      "needs_background": "light"
     },
     "output_type": "display_data"
    }
   ],
   "source": [
    "# Plotting the Count and Proportional Distribution of Target Column\n",
    "plt.figure(figsize=(17, 7))\n",
    "\n",
    "plt.subplot(1, 2, 1)\n",
    "\n",
    "# Plotting the count of spam and ham messages\n",
    "\n",
    "data.Label.value_counts().plot(kind = 'bar', color = ['green', 'red'])\n",
    "\n",
    "plt.xlabel('Label', fontsize=16)\n",
    "plt.ylabel('Frequency of Message Type', fontsize=16)\n",
    "plt.xticks(size = 12)\n",
    "plt.yticks(size = 12)\n",
    "plt.title('Frequency Distribution of Messages', fontsize=18)\n",
    "\n",
    "\n",
    "plt.subplot(1,2,2)\n",
    "\n",
    "# Plotting the proportion of spam and ham messages\n",
    "\n",
    "data.Label.value_counts().plot.pie(explode=[0,0.2],autopct='%1.1f%%',shadow=True, colors = ['green','red'],\n",
    "                                  textprops={'fontsize':15, 'color':'white'})\n",
    "plt.ylabel('Message Type', fontsize=16)\n",
    "plt.title('Proportional Distribution of Message Type', fontsize=18)\n",
    "plt.legend()\n"
   ]
  },
  {
   "cell_type": "markdown",
   "metadata": {},
   "source": [
    "**Observations**\n",
    "\n",
    "- Close to **87% messages were ham while 13% were spam**\n",
    "- It's surely an **imbalanced data** but not highly imbalanced so we will not and use undersampling or oversampling techniques to correct for the imbalance\n",
    "- Also, **NB algorithm** which is predominantly used for text classification is not affected by class imbalance\n",
    "- **SVM also is not highly affected by class imbalance**\n",
    "- Moreover, since we have imbalance, we can go ahead and use F1-score, precision and recall metrics to evaluate our model."
   ]
  },
  {
   "cell_type": "markdown",
   "metadata": {},
   "source": [
    "### **Question 2: What are the Most Common Words in Ham Messages?** "
   ]
  },
  {
   "cell_type": "markdown",
   "metadata": {},
   "source": [
    "We can use a wordcloud like visualisation to understand this"
   ]
  },
  {
   "cell_type": "code",
   "execution_count": 315,
   "metadata": {},
   "outputs": [],
   "source": [
    "wordcloud = WordCloud(width=2500, height=2500, max_words=100,\n",
    "                      background_color='Black', colormap='Greens_r'\n",
    "                      ).generate(str(data[data.Label == 'ham']['Clean_Message']))"
   ]
  },
  {
   "cell_type": "code",
   "execution_count": 316,
   "metadata": {},
   "outputs": [
    {
     "data": {
      "text/plain": [
       "(-0.5, 2499.5, 2499.5, -0.5)"
      ]
     },
     "execution_count": 316,
     "metadata": {},
     "output_type": "execute_result"
    },
    {
     "data": {
      "image/png": "[encoded data removed]",
      "text/plain": [
       "<Figure size 720x720 with 1 Axes>"
      ]
     },
     "metadata": {
      "needs_background": "light"
     },
     "output_type": "display_data"
    }
   ],
   "source": [
    "plt.figure(figsize=(10, 10))\n",
    "plt.imshow(wordcloud)\n",
    "plt.axis('off')"
   ]
  },
  {
   "cell_type": "markdown",
   "metadata": {},
   "source": [
    "- The words do not seem to be associated with any kind of spam. Looks more like words from personal conversations"
   ]
  },
  {
   "cell_type": "markdown",
   "metadata": {},
   "source": [
    "### **Question 3: What are the Most Common Words in Spam Messages?** "
   ]
  },
  {
   "cell_type": "code",
   "execution_count": 318,
   "metadata": {},
   "outputs": [],
   "source": [
    "wordcloud = WordCloud(width=2500, height=2500, max_words=100,\n",
    "                      background_color='Black', colormap='Reds_r'\n",
    "                      ).generate(str(data[data.Label == 'spam']['Clean_Message']))"
   ]
  },
  {
   "cell_type": "code",
   "execution_count": 320,
   "metadata": {
    "scrolled": false
   },
   "outputs": [
    {
     "data": {
      "text/plain": [
       "(-0.5, 2499.5, 2499.5, -0.5)"
      ]
     },
     "execution_count": 320,
     "metadata": {},
     "output_type": "execute_result"
    },
    {
     "data": {
      "image/png": "[encoded data removed]",
      "text/plain": [
       "<Figure size 720x720 with 1 Axes>"
      ]
     },
     "metadata": {
      "needs_background": "light"
     },
     "output_type": "display_data"
    }
   ],
   "source": [
    "plt.figure(figsize=(10, 10))\n",
    "plt.imshow(wordcloud)\n",
    "plt.axis('off')"
   ]
  },
  {
   "cell_type": "markdown",
   "metadata": {},
   "source": [
    "- Here the words do seem to be more inclined towards spam messages specially words like **winner, entry, free, win**, etc"
   ]
  },
  {
   "cell_type": "markdown",
   "metadata": {},
   "source": [
    "**Observations from EDA**\n",
    "\n",
    "- Data is imbalance. Contains more ham messages\n",
    "- The cleaned words in messages give us some hint about the kind of words used in ham and spam messages\n",
    "\n",
    "`Note: Bigram, trigram wordclouds can also be formed but here our intention is not unsupervised learning/exploration. We are interested in classifying future messages accurately. Hence, the simple onegram wordclouds have been shown just to get some idea about the kind of messages the data set has`"
   ]
  },
  {
   "cell_type": "markdown",
   "metadata": {},
   "source": [
    "<a id = Section7></a>\n",
    "## **7. Preparing Data for Analysis**"
   ]
  },
  {
   "cell_type": "markdown",
   "metadata": {},
   "source": [
    "- As mentioned earlier, we need to convert text data into numeric form to be used by machines for prediction purposes\n",
    "- There are 2 widely used methods to achieve that\n",
    "  - **Bag of Words (BoW)**\n",
    "  - **Term Frequency Inverse Document Frequency (TF-IDF)**\n",
    "- But before applying these techniques, we need to do some more data cleaning like removing stopwords, stemming, lemmatization and tokenization."
   ]
  },
  {
   "cell_type": "markdown",
   "metadata": {},
   "source": [
    "<a id = Section502></a>\n",
    "### **7.1 Brief about stopwords, stemming, lemmatization and tokenization**"
   ]
  },
  {
   "cell_type": "markdown",
   "metadata": {},
   "source": [
    "**`Stopwords`**\n",
    "Words like (an, a, the, is, are, how, what and many others) do not provide any additional value in most applications and hence there is not point keeping these words in our analysis. **We remove stopwords**\n",
    "\n",
    "**`Stemming`**\n",
    "Stemming a word means to reduce that word to its base form. Like reduce goes, going, gone to go. We do stemming to reduce unncessary crowding of words (there will be no additional information from goes, going or gone. All can be reduced to go and will still provide same information)\n",
    "\n",
    "**`Lemmatization`**\n",
    "Lemmatization works same as stemming but the only difference is that with stemming we occasionally end up with base/root words which do not provide any semantic meaning. like history becomes histori which has no meaning in English vernacular. Lemmatization preserves the semantic meaning and hence is preferred over stemming in many applications where the meaning of the words are of much importance. However, stemming is done most of the times when dataset is large as lemmatization takes a lot of time to process. Stemming is quite fast.\n",
    "\n",
    "**`Tokenization`**\n",
    "Tokenization refers to breaking up a sentence into individual words or a paragraph containing many sentences into individual sentence. In this problem we do not need to tokenize sentences as each row of data corresponds to an individual message and is basically a single sentence. However, we won't have to separately use tokenization as both BoW and TF-IDF take that into account."
   ]
  },
  {
   "cell_type": "markdown",
   "metadata": {},
   "source": [
    "<a id = Section502></a>\n",
    "### **7.2 Brief about BoW and TF-IDF**"
   ]
  },
  {
   "cell_type": "markdown",
   "metadata": {},
   "source": [
    "**`Bag of Words (BoW)`**\n",
    "BoW technique takes in text data and **tokenizes** into words. Then frequency distribution of each unique word from the corpus of all words is calculated and sorted in descending order of count. Each word now behaves as an explanatory variable. The, for each row/message of data, it tries to find words present in that message. Where ever, the word is present, it is assigned a value of 1 and where ever it is not present it is assigned a value 0. **Effectively, from the original low dimensional data we now get a huge dimensional data** where each word is a feature variable. The entire activity gets stored in the form of a **Document-Term Matrix (DTM)**.\n",
    "\n",
    "**`Term Frequency-Inverse Document Frequency`**\n",
    "Here also we eventually get a Document-Term Matrix with each word acting as an explanatory variable. However, **TF-IDF covers the con of BoW approach**. In BoW approach, we just assign 1 and 0 but do not effectively look at the importance of each word. Some words may be more important than others. This is taken care of by TF-IDF which calculates the importance of a word in a document in a collection of documents. If a word appears very frequently and also in many documents it means it might not be very useful in explaining the outcome variable. **The 2 terms TF and IDF work in tandem to assign values to words according to their importance**."
   ]
  },
  {
   "cell_type": "markdown",
   "metadata": {},
   "source": [
    "<a id = Section502></a>\n",
    "### **7.3 Remove Stopwords and use Stemming**"
   ]
  },
  {
   "cell_type": "markdown",
   "metadata": {},
   "source": [
    "`For the current analysis I am using stemming but lemmatization can also be used and whichever gives higher accuracy on test data that can be chosen`"
   ]
  },
  {
   "cell_type": "code",
   "execution_count": 194,
   "metadata": {},
   "outputs": [],
   "source": [
    "#defining a custom function to process the Message column\n",
    "\n",
    "ps = PorterStemmer()  #initializing the Stemmer object\n",
    "\n",
    "#the below function first splits each message into individual words and creates a list. Then it uses stemming\n",
    "#on all those words which are not part of stopwords. Finally it joins all the stemmed words back into a sentance\n",
    "#and stores in a list\n",
    "\n",
    "def clean_text(text):\n",
    "    text = text.split()\n",
    "    new_text = [ps.stem(word) for word in text if word not in stopwords.words('english')]\n",
    "    new_text = \" \".join(new_text)\n",
    "    return new_text"
   ]
  },
  {
   "cell_type": "code",
   "execution_count": 190,
   "metadata": {},
   "outputs": [],
   "source": [
    "data.Clean_Message = data.Clean_Message.apply(clean_text)"
   ]
  },
  {
   "cell_type": "code",
   "execution_count": 215,
   "metadata": {},
   "outputs": [
    {
     "data": {
      "text/html": [
       "<div>\n",
       "<style scoped>\n",
       "    .dataframe tbody tr th:only-of-type {\n",
       "        vertical-align: middle;\n",
       "    }\n",
       "\n",
       "    .dataframe tbody tr th {\n",
       "        vertical-align: top;\n",
       "    }\n",
       "\n",
       "    .dataframe thead th {\n",
       "        text-align: right;\n",
       "    }\n",
       "</style>\n",
       "<table border=\"1\" class=\"dataframe\">\n",
       "  <thead>\n",
       "    <tr style=\"text-align: right;\">\n",
       "      <th></th>\n",
       "      <th>Label</th>\n",
       "      <th>Clean_Message</th>\n",
       "    </tr>\n",
       "  </thead>\n",
       "  <tbody>\n",
       "    <tr>\n",
       "      <th>0</th>\n",
       "      <td>ham</td>\n",
       "      <td>go jurong point crazi avail bugi n great world...</td>\n",
       "    </tr>\n",
       "    <tr>\n",
       "      <th>1</th>\n",
       "      <td>ham</td>\n",
       "      <td>ok lar joke wif u oni</td>\n",
       "    </tr>\n",
       "    <tr>\n",
       "      <th>2</th>\n",
       "      <td>spam</td>\n",
       "      <td>free entri 2 wkli comp win fa cup final tkt 21...</td>\n",
       "    </tr>\n",
       "    <tr>\n",
       "      <th>3</th>\n",
       "      <td>ham</td>\n",
       "      <td>u dun say earli hor u c alreadi say</td>\n",
       "    </tr>\n",
       "    <tr>\n",
       "      <th>4</th>\n",
       "      <td>ham</td>\n",
       "      <td>nah dont think goe usf live around though</td>\n",
       "    </tr>\n",
       "  </tbody>\n",
       "</table>\n",
       "</div>"
      ],
      "text/plain": [
       "  Label                                      Clean_Message\n",
       "0   ham  go jurong point crazi avail bugi n great world...\n",
       "1   ham                              ok lar joke wif u oni\n",
       "2  spam  free entri 2 wkli comp win fa cup final tkt 21...\n",
       "3   ham                u dun say earli hor u c alreadi say\n",
       "4   ham          nah dont think goe usf live around though"
      ]
     },
     "execution_count": 215,
     "metadata": {},
     "output_type": "execute_result"
    }
   ],
   "source": [
    "data.head()"
   ]
  },
  {
   "cell_type": "markdown",
   "metadata": {},
   "source": [
    "**Stopwords** have been removed and other words have been converted to their root form."
   ]
  },
  {
   "cell_type": "markdown",
   "metadata": {},
   "source": [
    "<a id = Section502></a>\n",
    "### **7.4 Splitting Data into Train and Test for Further Model Development**"
   ]
  },
  {
   "cell_type": "markdown",
   "metadata": {},
   "source": [
    "- Now, we will **split** the dataset into **Train** and **Test** subsets.\n",
    "\n",
    "- We will use **80%** data for **training** and the remaining **20%** data for **testing** our model.\n"
   ]
  },
  {
   "cell_type": "markdown",
   "metadata": {},
   "source": [
    "- First, we will **separate** the **labels** from the **messages**"
   ]
  },
  {
   "cell_type": "code",
   "execution_count": 214,
   "metadata": {
    "scrolled": true
   },
   "outputs": [
    {
     "data": {
      "text/plain": [
       "array(['go jurong point crazi avail bugi n great world la e buffet cine got amor wat',\n",
       "       'ok lar joke wif u oni',\n",
       "       'free entri 2 wkli comp win fa cup final tkt 21st may 2005 text fa 87121 receiv entri questionstd txt ratet&c appli 08452810075over18',\n",
       "       'u dun say earli hor u c alreadi say',\n",
       "       'nah dont think goe usf live around though'], dtype=object)"
      ]
     },
     "execution_count": 214,
     "metadata": {},
     "output_type": "execute_result"
    }
   ],
   "source": [
    "# Separating the Messages (X will form our Feature matrix)\n",
    "X = data.Clean_Message.values\n",
    "\n",
    "#showing the first 5 messages\n",
    "X[:5]"
   ]
  },
  {
   "cell_type": "code",
   "execution_count": 217,
   "metadata": {},
   "outputs": [
    {
     "data": {
      "text/plain": [
       "array(['ham', 'ham', 'spam', 'ham', 'ham'], dtype=object)"
      ]
     },
     "execution_count": 217,
     "metadata": {},
     "output_type": "execute_result"
    }
   ],
   "source": [
    "# Separating the labels\n",
    "y = data.Label.values\n",
    "\n",
    "#showing the first 5 messages\n",
    "y[:5]"
   ]
  },
  {
   "cell_type": "markdown",
   "metadata": {},
   "source": [
    "- After **separating** the *messages* and *labels*, we will **split** the data into **train** and **test sets**."
   ]
  },
  {
   "cell_type": "code",
   "execution_count": 218,
   "metadata": {},
   "outputs": [],
   "source": [
    "# Using scikit-learn's train_test_split function to split the dataset into train and test sets.\n",
    "# 80% of the data will be in the train set and 20% in the test set, as specified by test_size=0.2\n",
    "\n",
    "X_train, X_test, y_train, y_test = train_test_split(X, y, test_size=0.2, random_state=42)"
   ]
  },
  {
   "cell_type": "code",
   "execution_count": 219,
   "metadata": {},
   "outputs": [
    {
     "name": "stdout",
     "output_type": "stream",
     "text": [
      "Training Data Shape: (4457,) (4457,)\n",
      "Testing Data Shape: (1115,) (1115,)\n"
     ]
    }
   ],
   "source": [
    "# Checking the shapes of the training and test sets\n",
    "\n",
    "print('Training Data Shape:', X_train.shape, y_train.shape)\n",
    "print('Testing Data Shape:', X_test.shape, y_test.shape)"
   ]
  },
  {
   "cell_type": "markdown",
   "metadata": {},
   "source": [
    "- The data has been **divided** into training and test sets."
   ]
  },
  {
   "cell_type": "markdown",
   "metadata": {},
   "source": [
    "<a id = Section7></a>\n",
    "## **8. Model Development and Evaluation**"
   ]
  },
  {
   "cell_type": "markdown",
   "metadata": {},
   "source": [
    "- We will apply **Naive Bayes and Support Vector Machines (Classifier)** to build and evaluate our model as these 2 classifiers have proved to work very well with text data\n",
    "\n",
    "\n",
    "- But in order to train the 2 classifers, we first need to build our feature matrix in such a way that it is convenient for the algos to use it.\n",
    "\n",
    "\n",
    "- Here, I am using the BoW approach to build the Document Term Matrix but TF-IDF can also be used. Again, we can compare both the methods and whichever gives higher accuracy we can go ahead with that for classification of future data\n",
    "\n",
    "\n",
    "- CountVectorizer from sklearn implements the BoW technique in Python"
   ]
  },
  {
   "cell_type": "code",
   "execution_count": 267,
   "metadata": {},
   "outputs": [],
   "source": [
    "#initializing the countvectorizer object\n",
    "cv = CountVectorizer()"
   ]
  },
  {
   "cell_type": "markdown",
   "metadata": {},
   "source": [
    "`We will create a Machine Learning Pipeline which will carry out the following steps in order`\n",
    "\n",
    "\n",
    "- This will first, **vectorize** the data using **CountVectorizer**, creating a **Document Term matrix** from the dataset, then will **pass** this **data** to our **classifier**.\n",
    "\n",
    "- The classifier in this case are 2 - **Multinomial Naive Bayes** and **Support Vector** classifier.\n",
    "\n",
    "- These algorithms are **most suited** for **vectorized text** that contains a *large number of features*.\n",
    "\n",
    "- Creating a pipeline allows us to **streamline** our Machine Learning workflow by performing **multiple steps** in a single pass."
   ]
  },
  {
   "cell_type": "markdown",
   "metadata": {},
   "source": [
    "<a id = Section502></a>\n",
    "### **8.1 Naive Bayes Classifier**"
   ]
  },
  {
   "cell_type": "markdown",
   "metadata": {},
   "source": [
    "- Naive Bayes is used for classification purposes\n",
    "- It is a probabilistic classifier which uses **Bayes Theorem** to calculate the probability of a class (hypothesis) given data (explanatory features)\n",
    "- Essentially, the prior probabilities (which just give us an average score) are updated using evidence from the data to get the posterior probabilities of each class and which ever class has higher probability the data point is classified as that class\n",
    "- It is called **Naive** as it assumes that the explanatory variables (features) are all independent of each other i.e. the occurrance of anyone not dependent on the occurrance of the other\n"
   ]
  },
  {
   "cell_type": "code",
   "execution_count": 268,
   "metadata": {},
   "outputs": [],
   "source": [
    "nb_pipeline = Pipeline([('vect', cv), ('clf', MultinomialNB())])"
   ]
  },
  {
   "cell_type": "markdown",
   "metadata": {},
   "source": [
    "- **Fitting our pipeline with the Training Data**"
   ]
  },
  {
   "cell_type": "code",
   "execution_count": 269,
   "metadata": {
    "scrolled": true
   },
   "outputs": [
    {
     "data": {
      "text/plain": [
       "Pipeline(memory=None,\n",
       "         steps=[('vect',\n",
       "                 CountVectorizer(analyzer='word', binary=False,\n",
       "                                 decode_error='strict',\n",
       "                                 dtype=<class 'numpy.int64'>, encoding='utf-8',\n",
       "                                 input='content', lowercase=True, max_df=1.0,\n",
       "                                 max_features=None, min_df=1,\n",
       "                                 ngram_range=(1, 1), preprocessor=None,\n",
       "                                 stop_words=None, strip_accents=None,\n",
       "                                 token_pattern='(?u)\\\\b\\\\w\\\\w+\\\\b',\n",
       "                                 tokenizer=None, vocabulary=None)),\n",
       "                ('clf',\n",
       "                 MultinomialNB(alpha=1.0, class_prior=None, fit_prior=True))],\n",
       "         verbose=False)"
      ]
     },
     "execution_count": 269,
     "metadata": {},
     "output_type": "execute_result"
    }
   ],
   "source": [
    "nb_pipeline.fit(X_train, y_train)"
   ]
  },
  {
   "cell_type": "markdown",
   "metadata": {},
   "source": [
    "- **Making Predictions on Test Set**"
   ]
  },
  {
   "cell_type": "code",
   "execution_count": 270,
   "metadata": {},
   "outputs": [
    {
     "data": {
      "text/plain": [
       "array([[9.99959651e-01, 4.03485272e-05],\n",
       "       [9.99997907e-01, 2.09306912e-06],\n",
       "       [3.64282963e-04, 9.99635717e-01],\n",
       "       [9.99999778e-01, 2.21589970e-07],\n",
       "       [3.44812135e-24, 1.00000000e+00]])"
      ]
     },
     "execution_count": 270,
     "metadata": {},
     "output_type": "execute_result"
    }
   ],
   "source": [
    "y_pred = nb_pipeline.predict_proba(X_test)\n",
    "\n",
    "#probabilities for first 5 messages in test data\n",
    "y_pred[:5]"
   ]
  },
  {
   "cell_type": "markdown",
   "metadata": {},
   "source": [
    "**Let's have a look at the actual lables**"
   ]
  },
  {
   "cell_type": "code",
   "execution_count": 271,
   "metadata": {},
   "outputs": [
    {
     "data": {
      "text/plain": [
       "array(['ham', 'ham', 'spam', 'ham', 'spam'], dtype='<U4')"
      ]
     },
     "execution_count": 271,
     "metadata": {},
     "output_type": "execute_result"
    }
   ],
   "source": [
    "y_pred = nb_pipeline.predict(X_test)\n",
    "y_pred[:5]"
   ]
  },
  {
   "cell_type": "markdown",
   "metadata": {},
   "source": [
    "**Model Evaluation**"
   ]
  },
  {
   "cell_type": "markdown",
   "metadata": {},
   "source": [
    "- Checking the model **accuracy** on both train and test data sets.\n",
    "\n",
    "- We are using the **classifier**'s `score` method, which calculates the **accuracy score** of the model on a given data."
   ]
  },
  {
   "cell_type": "code",
   "execution_count": 272,
   "metadata": {},
   "outputs": [
    {
     "name": "stdout",
     "output_type": "stream",
     "text": [
      "Model Accuracy for the Train set: 0.9930446488669509\n"
     ]
    }
   ],
   "source": [
    "print('Model Accuracy for the Train set:', nb_pipeline.score(X_train, y_train))"
   ]
  },
  {
   "cell_type": "code",
   "execution_count": 273,
   "metadata": {},
   "outputs": [
    {
     "name": "stdout",
     "output_type": "stream",
     "text": [
      "Model Accuracy for the Test set: 0.9838565022421525\n"
     ]
    }
   ],
   "source": [
    "print('Model Accuracy for the Test set:', nb_pipeline.score(X_test, y_test))"
   ]
  },
  {
   "cell_type": "markdown",
   "metadata": {},
   "source": [
    "**Observations:**\n",
    "\n",
    "- We get an **accuracy** of more than **98%** on both of our train set and test set.\n",
    "\n",
    "- This implies that our model is **not overfitting** and is actually performing very well.\n",
    "\n",
    "- It is **generalizing** well on unseen data, and giving good results."
   ]
  },
  {
   "cell_type": "markdown",
   "metadata": {},
   "source": [
    "**We might be getting such high accuracy values but let's not forget that our dataset was imbalanced. Hence, we will not base our conclusion on the accuracy score `though it is known that NB is not affected by imbalance datasets`. We need to compute the confusion matrix and corresponding precision, recall and F1-scores associated with it**."
   ]
  },
  {
   "cell_type": "markdown",
   "metadata": {},
   "source": [
    "- Creating **confusion matrix** and **classification report** of our predictions"
   ]
  },
  {
   "cell_type": "code",
   "execution_count": 326,
   "metadata": {
    "scrolled": true
   },
   "outputs": [
    {
     "data": {
      "text/html": [
       "<div>\n",
       "<style scoped>\n",
       "    .dataframe tbody tr th:only-of-type {\n",
       "        vertical-align: middle;\n",
       "    }\n",
       "\n",
       "    .dataframe tbody tr th {\n",
       "        vertical-align: top;\n",
       "    }\n",
       "\n",
       "    .dataframe thead th {\n",
       "        text-align: right;\n",
       "    }\n",
       "</style>\n",
       "<table border=\"1\" class=\"dataframe\">\n",
       "  <thead>\n",
       "    <tr style=\"text-align: right;\">\n",
       "      <th></th>\n",
       "      <th>ham</th>\n",
       "      <th>spam</th>\n",
       "    </tr>\n",
       "  </thead>\n",
       "  <tbody>\n",
       "    <tr>\n",
       "      <th>ham</th>\n",
       "      <td>961</td>\n",
       "      <td>4</td>\n",
       "    </tr>\n",
       "    <tr>\n",
       "      <th>spam</th>\n",
       "      <td>14</td>\n",
       "      <td>136</td>\n",
       "    </tr>\n",
       "  </tbody>\n",
       "</table>\n",
       "</div>"
      ],
      "text/plain": [
       "      ham  spam\n",
       "ham   961     4\n",
       "spam   14   136"
      ]
     },
     "execution_count": 326,
     "metadata": {},
     "output_type": "execute_result"
    }
   ],
   "source": [
    "pd.DataFrame(confusion_matrix(y_test, y_pred), columns=['ham', 'spam'], index=['ham', 'spam'])"
   ]
  },
  {
   "cell_type": "markdown",
   "metadata": {},
   "source": [
    "- In our test data we had 965 ham messages and 150 spam messages\n",
    "\n",
    "- Naive Bayes has classified 961 out of 965 ham messages correctly and 136 out of 150 spam messages correctly. Both precision and recall are more than 90%\n",
    "\n",
    "- This shows that NB was not affected by data imbalance."
   ]
  },
  {
   "cell_type": "code",
   "execution_count": 265,
   "metadata": {
    "scrolled": true
   },
   "outputs": [
    {
     "name": "stdout",
     "output_type": "stream",
     "text": [
      "              precision    recall  f1-score   support\n",
      "\n",
      "         ham       0.99      1.00      0.99       965\n",
      "        spam       0.97      0.91      0.94       150\n",
      "\n",
      "    accuracy                           0.98      1115\n",
      "   macro avg       0.98      0.95      0.96      1115\n",
      "weighted avg       0.98      0.98      0.98      1115\n",
      "\n"
     ]
    }
   ],
   "source": [
    "print(classification_report(y_test, y_pred))"
   ]
  },
  {
   "cell_type": "markdown",
   "metadata": {},
   "source": [
    "- As stated above, our model is performing **great** on both **ham and spam** messages. \n",
    "\n",
    "- f1-score is 99%. \n",
    "\n",
    "- **Naive Bayes did a great job in detecting SPAM AND HAM MESSAGES**"
   ]
  },
  {
   "cell_type": "markdown",
   "metadata": {},
   "source": [
    "- Creating a dataframe containing the **test data** along with the **predictions** made by the model for comparison"
   ]
  },
  {
   "cell_type": "code",
   "execution_count": 236,
   "metadata": {},
   "outputs": [
    {
     "data": {
      "text/html": [
       "<div>\n",
       "<style scoped>\n",
       "    .dataframe tbody tr th:only-of-type {\n",
       "        vertical-align: middle;\n",
       "    }\n",
       "\n",
       "    .dataframe tbody tr th {\n",
       "        vertical-align: top;\n",
       "    }\n",
       "\n",
       "    .dataframe thead th {\n",
       "        text-align: right;\n",
       "    }\n",
       "</style>\n",
       "<table border=\"1\" class=\"dataframe\">\n",
       "  <thead>\n",
       "    <tr style=\"text-align: right;\">\n",
       "      <th></th>\n",
       "      <th>Message</th>\n",
       "      <th>Actual Label</th>\n",
       "      <th>Predicted Label</th>\n",
       "    </tr>\n",
       "  </thead>\n",
       "  <tbody>\n",
       "    <tr>\n",
       "      <th>0</th>\n",
       "      <td>funni fact nobodi teach volcano 2 erupt tsunam...</td>\n",
       "      <td>ham</td>\n",
       "      <td>ham</td>\n",
       "    </tr>\n",
       "    <tr>\n",
       "      <th>1</th>\n",
       "      <td>sent score sopha secondari applic school think...</td>\n",
       "      <td>ham</td>\n",
       "      <td>ham</td>\n",
       "    </tr>\n",
       "    <tr>\n",
       "      <th>2</th>\n",
       "      <td>know someon know fanci call 09058097218 find p...</td>\n",
       "      <td>spam</td>\n",
       "      <td>spam</td>\n",
       "    </tr>\n",
       "    <tr>\n",
       "      <th>3</th>\n",
       "      <td>promi get soon youll text morn let know made ok</td>\n",
       "      <td>ham</td>\n",
       "      <td>ham</td>\n",
       "    </tr>\n",
       "    <tr>\n",
       "      <th>4</th>\n",
       "      <td>congratul ur award either å£500 cd gift vouche...</td>\n",
       "      <td>spam</td>\n",
       "      <td>spam</td>\n",
       "    </tr>\n",
       "    <tr>\n",
       "      <th>5</th>\n",
       "      <td>ill text carlo let know hang</td>\n",
       "      <td>ham</td>\n",
       "      <td>ham</td>\n",
       "    </tr>\n",
       "    <tr>\n",
       "      <th>6</th>\n",
       "      <td>k didt see kwhere</td>\n",
       "      <td>ham</td>\n",
       "      <td>ham</td>\n",
       "    </tr>\n",
       "    <tr>\n",
       "      <th>7</th>\n",
       "      <td>messag responc happend</td>\n",
       "      <td>ham</td>\n",
       "      <td>ham</td>\n",
       "    </tr>\n",
       "    <tr>\n",
       "      <th>8</th>\n",
       "      <td>get gandhipuram walk cross cut road right side...</td>\n",
       "      <td>ham</td>\n",
       "      <td>ham</td>\n",
       "    </tr>\n",
       "    <tr>\n",
       "      <th>9</th>\n",
       "      <td>flippin shit yet</td>\n",
       "      <td>ham</td>\n",
       "      <td>ham</td>\n",
       "    </tr>\n",
       "  </tbody>\n",
       "</table>\n",
       "</div>"
      ],
      "text/plain": [
       "                                             Message Actual Label  \\\n",
       "0  funni fact nobodi teach volcano 2 erupt tsunam...          ham   \n",
       "1  sent score sopha secondari applic school think...          ham   \n",
       "2  know someon know fanci call 09058097218 find p...         spam   \n",
       "3    promi get soon youll text morn let know made ok          ham   \n",
       "4  congratul ur award either å£500 cd gift vouche...         spam   \n",
       "5                       ill text carlo let know hang          ham   \n",
       "6                                  k didt see kwhere          ham   \n",
       "7                             messag responc happend          ham   \n",
       "8  get gandhipuram walk cross cut road right side...          ham   \n",
       "9                                   flippin shit yet          ham   \n",
       "\n",
       "  Predicted Label  \n",
       "0             ham  \n",
       "1             ham  \n",
       "2            spam  \n",
       "3             ham  \n",
       "4            spam  \n",
       "5             ham  \n",
       "6             ham  \n",
       "7             ham  \n",
       "8             ham  \n",
       "9             ham  "
      ]
     },
     "execution_count": 236,
     "metadata": {},
     "output_type": "execute_result"
    }
   ],
   "source": [
    "evaluation_df = pd.DataFrame({'Message': X_test, 'Actual Label': y_test, 'Predicted Label': y_pred})\n",
    "evaluation_df.head(10)"
   ]
  },
  {
   "cell_type": "markdown",
   "metadata": {},
   "source": [
    "<a id = Section502></a>\n",
    "### **8.2 Support Vector Classifier**"
   ]
  },
  {
   "cell_type": "markdown",
   "metadata": {},
   "source": [
    "- SVM can do both regression and classification\n",
    "- When SVM is used for classification, we call it **Support Vector Classifier**\n",
    "- **SVC uses linear hyperplane** to classify data into 2 or multiple classes\n",
    "- It uses an optimization technique to simultaneously maximize the margin between 2 classes along with minimizing the error\n",
    "- In most cases, we do not have perfectly separable data and hence SVC has to take into consideration the error minimization along with maximization of margin and has to do it in such a way that the model does not overfit the data. In order to achieve that, it uses a regularisation parameter **'C'**\n",
    "- Again, when data is not linearly separable even after taking error into consideration, SVM usese the famous **Kernel trick** to transform data and use the old, simple, vanilla hyperplane concept for classification\n"
   ]
  },
  {
   "cell_type": "code",
   "execution_count": 240,
   "metadata": {},
   "outputs": [],
   "source": [
    "svc_pipeline = Pipeline([('vect', cv), ('clf', SVC())])"
   ]
  },
  {
   "cell_type": "markdown",
   "metadata": {},
   "source": [
    "- **Fitting our pipeline with the Training Data**"
   ]
  },
  {
   "cell_type": "code",
   "execution_count": 241,
   "metadata": {},
   "outputs": [
    {
     "data": {
      "text/plain": [
       "Pipeline(memory=None,\n",
       "         steps=[('vect',\n",
       "                 CountVectorizer(analyzer='word', binary=False,\n",
       "                                 decode_error='strict',\n",
       "                                 dtype=<class 'numpy.int64'>, encoding='utf-8',\n",
       "                                 input='content', lowercase=True, max_df=1.0,\n",
       "                                 max_features=None, min_df=1,\n",
       "                                 ngram_range=(1, 1), preprocessor=None,\n",
       "                                 stop_words=None, strip_accents=None,\n",
       "                                 token_pattern='(?u)\\\\b\\\\w\\\\w+\\\\b',\n",
       "                                 tokenizer=None, vocabulary=None)),\n",
       "                ('clf',\n",
       "                 SVC(C=1.0, break_ties=False, cache_size=200, class_weight=None,\n",
       "                     coef0=0.0, decision_function_shape='ovr', degree=3,\n",
       "                     gamma='scale', kernel='rbf', max_iter=-1,\n",
       "                     probability=False, random_state=None, shrinking=True,\n",
       "                     tol=0.001, verbose=False))],\n",
       "         verbose=False)"
      ]
     },
     "execution_count": 241,
     "metadata": {},
     "output_type": "execute_result"
    }
   ],
   "source": [
    "svc_pipeline.fit(X_train, y_train)"
   ]
  },
  {
   "cell_type": "markdown",
   "metadata": {},
   "source": [
    "- **Making Predictions on Test Set**"
   ]
  },
  {
   "cell_type": "code",
   "execution_count": 242,
   "metadata": {},
   "outputs": [
    {
     "data": {
      "text/plain": [
       "array(['ham', 'ham', 'ham', 'ham', 'spam'], dtype=object)"
      ]
     },
     "execution_count": 242,
     "metadata": {},
     "output_type": "execute_result"
    }
   ],
   "source": [
    "y_pred = svc_pipeline.predict(X_test)\n",
    "y_pred[:5]"
   ]
  },
  {
   "cell_type": "markdown",
   "metadata": {},
   "source": [
    "**Model Evaluation**"
   ]
  },
  {
   "cell_type": "code",
   "execution_count": 243,
   "metadata": {},
   "outputs": [
    {
     "name": "stdout",
     "output_type": "stream",
     "text": [
      "Model Accuracy for the Train set: 0.997083239847431\n"
     ]
    }
   ],
   "source": [
    "print('Model Accuracy for the Train set:', svc_pipeline.score(X_train, y_train))"
   ]
  },
  {
   "cell_type": "code",
   "execution_count": 244,
   "metadata": {},
   "outputs": [
    {
     "name": "stdout",
     "output_type": "stream",
     "text": [
      "Model Accuracy for the Test set: 0.97847533632287\n"
     ]
    }
   ],
   "source": [
    "print('Model Accuracy for the Test set:', svc_pipeline.score(X_test, y_test))"
   ]
  },
  {
   "cell_type": "markdown",
   "metadata": {},
   "source": [
    "**Observations:**\n",
    "\n",
    "- We get an **accuracy** of more than **97%** on both of our train set and test set. However, test accuracy is slightly lower than **Naive Bayes**\n",
    "\n",
    "- This implies that our model is **not overfitting** and is actually performing very well.\n",
    "\n",
    "- It is **generalizing** well on unseen data, and giving good results."
   ]
  },
  {
   "cell_type": "markdown",
   "metadata": {},
   "source": [
    "- Creating **confusion matrix** and **classification report** of our predictions"
   ]
  },
  {
   "cell_type": "code",
   "execution_count": 245,
   "metadata": {},
   "outputs": [
    {
     "data": {
      "text/html": [
       "<div>\n",
       "<style scoped>\n",
       "    .dataframe tbody tr th:only-of-type {\n",
       "        vertical-align: middle;\n",
       "    }\n",
       "\n",
       "    .dataframe tbody tr th {\n",
       "        vertical-align: top;\n",
       "    }\n",
       "\n",
       "    .dataframe thead th {\n",
       "        text-align: right;\n",
       "    }\n",
       "</style>\n",
       "<table border=\"1\" class=\"dataframe\">\n",
       "  <thead>\n",
       "    <tr style=\"text-align: right;\">\n",
       "      <th></th>\n",
       "      <th>ham</th>\n",
       "      <th>spam</th>\n",
       "    </tr>\n",
       "  </thead>\n",
       "  <tbody>\n",
       "    <tr>\n",
       "      <th>ham</th>\n",
       "      <td>965</td>\n",
       "      <td>0</td>\n",
       "    </tr>\n",
       "    <tr>\n",
       "      <th>spam</th>\n",
       "      <td>24</td>\n",
       "      <td>126</td>\n",
       "    </tr>\n",
       "  </tbody>\n",
       "</table>\n",
       "</div>"
      ],
      "text/plain": [
       "      ham  spam\n",
       "ham   965     0\n",
       "spam   24   126"
      ]
     },
     "execution_count": 245,
     "metadata": {},
     "output_type": "execute_result"
    }
   ],
   "source": [
    "pd.DataFrame(confusion_matrix(y_test, y_pred), columns=['ham', 'spam'], index=['ham', 'spam'])"
   ]
  },
  {
   "cell_type": "markdown",
   "metadata": {},
   "source": [
    "- SVC classifies all **ham messages correctly** while the confusion happens in the **spam messages**\n",
    "\n",
    "- It is not able to classify 24 spam messages correctly and hence we see a reduced recall for SVC compared to NB\n",
    "\n",
    "- This could be due to the fact that SVC is not great like NB in dealing with class imbalance\n"
   ]
  },
  {
   "cell_type": "code",
   "execution_count": 246,
   "metadata": {},
   "outputs": [
    {
     "name": "stdout",
     "output_type": "stream",
     "text": [
      "              precision    recall  f1-score   support\n",
      "\n",
      "         ham       0.98      1.00      0.99       965\n",
      "        spam       1.00      0.84      0.91       150\n",
      "\n",
      "    accuracy                           0.98      1115\n",
      "   macro avg       0.99      0.92      0.95      1115\n",
      "weighted avg       0.98      0.98      0.98      1115\n",
      "\n"
     ]
    }
   ],
   "source": [
    "print(classification_report(y_test, y_pred))"
   ]
  },
  {
   "cell_type": "markdown",
   "metadata": {},
   "source": [
    "- As stated above, our model is performing **great** on both **ham and spam** messages. \n",
    "\n",
    "- f1-score for spam is lower than NB. The average f1-score is also lower than NB\n",
    "\n",
    "- **Recall** for SVM (84%) is quite lower than NB (91%)\n"
   ]
  },
  {
   "cell_type": "markdown",
   "metadata": {},
   "source": [
    "- Creating a dataframe containing the **test data** along with the **predictions** made by the model for comparison"
   ]
  },
  {
   "cell_type": "code",
   "execution_count": 248,
   "metadata": {
    "scrolled": true
   },
   "outputs": [
    {
     "data": {
      "text/html": [
       "<div>\n",
       "<style scoped>\n",
       "    .dataframe tbody tr th:only-of-type {\n",
       "        vertical-align: middle;\n",
       "    }\n",
       "\n",
       "    .dataframe tbody tr th {\n",
       "        vertical-align: top;\n",
       "    }\n",
       "\n",
       "    .dataframe thead th {\n",
       "        text-align: right;\n",
       "    }\n",
       "</style>\n",
       "<table border=\"1\" class=\"dataframe\">\n",
       "  <thead>\n",
       "    <tr style=\"text-align: right;\">\n",
       "      <th></th>\n",
       "      <th>Message</th>\n",
       "      <th>Actual Label</th>\n",
       "      <th>Predicted Label</th>\n",
       "    </tr>\n",
       "  </thead>\n",
       "  <tbody>\n",
       "    <tr>\n",
       "      <th>0</th>\n",
       "      <td>funni fact nobodi teach volcano 2 erupt tsunam...</td>\n",
       "      <td>ham</td>\n",
       "      <td>ham</td>\n",
       "    </tr>\n",
       "    <tr>\n",
       "      <th>1</th>\n",
       "      <td>sent score sopha secondari applic school think...</td>\n",
       "      <td>ham</td>\n",
       "      <td>ham</td>\n",
       "    </tr>\n",
       "    <tr>\n",
       "      <th>2</th>\n",
       "      <td>know someon know fanci call 09058097218 find p...</td>\n",
       "      <td>spam</td>\n",
       "      <td>ham</td>\n",
       "    </tr>\n",
       "    <tr>\n",
       "      <th>3</th>\n",
       "      <td>promi get soon youll text morn let know made ok</td>\n",
       "      <td>ham</td>\n",
       "      <td>ham</td>\n",
       "    </tr>\n",
       "    <tr>\n",
       "      <th>4</th>\n",
       "      <td>congratul ur award either å£500 cd gift vouche...</td>\n",
       "      <td>spam</td>\n",
       "      <td>spam</td>\n",
       "    </tr>\n",
       "    <tr>\n",
       "      <th>5</th>\n",
       "      <td>ill text carlo let know hang</td>\n",
       "      <td>ham</td>\n",
       "      <td>ham</td>\n",
       "    </tr>\n",
       "    <tr>\n",
       "      <th>6</th>\n",
       "      <td>k didt see kwhere</td>\n",
       "      <td>ham</td>\n",
       "      <td>ham</td>\n",
       "    </tr>\n",
       "    <tr>\n",
       "      <th>7</th>\n",
       "      <td>messag responc happend</td>\n",
       "      <td>ham</td>\n",
       "      <td>ham</td>\n",
       "    </tr>\n",
       "    <tr>\n",
       "      <th>8</th>\n",
       "      <td>get gandhipuram walk cross cut road right side...</td>\n",
       "      <td>ham</td>\n",
       "      <td>ham</td>\n",
       "    </tr>\n",
       "    <tr>\n",
       "      <th>9</th>\n",
       "      <td>flippin shit yet</td>\n",
       "      <td>ham</td>\n",
       "      <td>ham</td>\n",
       "    </tr>\n",
       "  </tbody>\n",
       "</table>\n",
       "</div>"
      ],
      "text/plain": [
       "                                             Message Actual Label  \\\n",
       "0  funni fact nobodi teach volcano 2 erupt tsunam...          ham   \n",
       "1  sent score sopha secondari applic school think...          ham   \n",
       "2  know someon know fanci call 09058097218 find p...         spam   \n",
       "3    promi get soon youll text morn let know made ok          ham   \n",
       "4  congratul ur award either å£500 cd gift vouche...         spam   \n",
       "5                       ill text carlo let know hang          ham   \n",
       "6                                  k didt see kwhere          ham   \n",
       "7                             messag responc happend          ham   \n",
       "8  get gandhipuram walk cross cut road right side...          ham   \n",
       "9                                   flippin shit yet          ham   \n",
       "\n",
       "  Predicted Label  \n",
       "0             ham  \n",
       "1             ham  \n",
       "2             ham  \n",
       "3             ham  \n",
       "4            spam  \n",
       "5             ham  \n",
       "6             ham  \n",
       "7             ham  \n",
       "8             ham  \n",
       "9             ham  "
      ]
     },
     "execution_count": 248,
     "metadata": {},
     "output_type": "execute_result"
    }
   ],
   "source": [
    "evaluation_df = pd.DataFrame({'Message': X_test, 'Actual Label': y_test, 'Predicted Label': y_pred})\n",
    "evaluation_df.head(10)"
   ]
  },
  {
   "cell_type": "markdown",
   "metadata": {},
   "source": [
    "<a id = Section7></a>\n",
    "## **9. Conclusion**"
   ]
  },
  {
   "cell_type": "markdown",
   "metadata": {},
   "source": [
    "- Both Naive Bayes and Support Vector Machine have performed very well\n",
    "\n",
    "- **However, Naive Bayes has performed better compared to SVM** as overall accuracy is higher. Also, the **Recall** in case of **spam messages** is much higher for NB. It showed better capability in identifying spam messages\n",
    "\n",
    "- So, in essence, whatever might be our objective (i.e. maximum accuracy or recall or precision or f1-score), we should go forward with Naive Bayes for this classification problem"
   ]
  },
  {
   "cell_type": "markdown",
   "metadata": {},
   "source": [
    "**`How to make it even better?`**\n",
    "\n",
    "Though our model has performed very well, we can still try other things to find if it can be made better. Following points can be considered:\n",
    "  \n",
    "  - We can use TF-IDF instead of BoW \n",
    "  - We can also use **Lemmatization** instead of **Stemming** and see the difference in prediction accuracy\n",
    "  - When initializing CountVectorizer or TFIDF, we can use **max_features** (which decides the number of X-variables in the model) in a gridsearch manner and find the best f1-score for test data. \n",
    "  \n",
    "  **Note, the train accuracy will definitely decrease as we reduce the max_features(complexity) but it might happen that test accuracy can go up**"
   ]
  },
  {
   "cell_type": "markdown",
   "metadata": {},
   "source": [
    "**Just a side note**: In order to create more beautiful wordclouds of different shapes and style and colour, we can refer to a new package called **`stylecloud`**"
   ]
  }
 ],
 "metadata": {
  "kernelspec": {
   "display_name": "Python 3",
   "language": "python",
   "name": "python3"
  },
  "language_info": {
   "codemirror_mode": {
    "name": "ipython",
    "version": 3
   },
   "file_extension": ".py",
   "mimetype": "text/x-python",
   "name": "python",
   "nbconvert_exporter": "python",
   "pygments_lexer": "ipython3",
   "version": "3.7.3"
  }
 },
 "nbformat": 4,
 "nbformat_minor": 2
}
